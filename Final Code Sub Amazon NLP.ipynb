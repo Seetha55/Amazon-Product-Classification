{
  "nbformat": 4,
  "nbformat_minor": 0,
  "metadata": {
    "kernelspec": {
      "display_name": "Python 3 (ipykernel)",
      "language": "python",
      "name": "python3"
    },
    "language_info": {
      "codemirror_mode": {
        "name": "ipython",
        "version": 3
      },
      "file_extension": ".py",
      "mimetype": "text/x-python",
      "name": "python",
      "nbconvert_exporter": "python",
      "pygments_lexer": "ipython3",
      "version": "3.9.5"
    },
    "colab": {
      "name": "product_clustering.ipynb",
      "provenance": [],
      "collapsed_sections": []
    }
  },
  "cells": [
    {
      "cell_type": "code",
      "metadata": {
        "id": "rObSRcEanLUl"
      },
      "source": [
        "import json\n",
        "import pandas as pd\n",
        "import numpy as np\n",
        "\n",
        "import matplotlib.pyplot as plt\n",
        "import seaborn as sns\n",
        "\n",
        "import csv\n",
        "import re\n",
        "# import nltk\n",
        "# from dask.distributed import Client\n",
        "# client = Client(processes=False)\n",
        "# nltk.download()\n",
        "from sklearn import feature_extraction, model_selection, naive_bayes, pipeline, manifold, preprocessing"
      ],
      "execution_count": null,
      "outputs": []
    },
    {
      "cell_type": "code",
      "metadata": {
        "colab": {
          "base_uri": "https://localhost:8080/"
        },
        "id": "e1ElO61vnVLX",
        "outputId": "6b6585f5-028f-4982-f516-775d965f0830"
      },
      "source": [
        "from google.colab import drive\n",
        "drive.mount('/content/drive')"
      ],
      "execution_count": null,
      "outputs": [
        {
          "output_type": "stream",
          "text": [
            "Mounted at /content/drive\n"
          ],
          "name": "stdout"
        }
      ]
    },
    {
      "cell_type": "code",
      "metadata": {
        "id": "BOWh25vknLUn"
      },
      "source": [
        "data = pd.read_csv(\"/content/drive/MyDrive/Amazon Challenge/Amazon Dataset task 1/dataset/train.csv\", escapechar = \"\\\\\", quoting = csv.QUOTE_NONE)[[\"TITLE\", \"BRAND\",\"DESCRIPTION\",\"BULLET_POINTS\", \"BROWSE_NODE_ID\"]]"
      ],
      "execution_count": null,
      "outputs": []
    },
    {
      "cell_type": "code",
      "metadata": {
        "colab": {
          "base_uri": "https://localhost:8080/",
          "height": 52
        },
        "id": "HWPOSErDnLUp",
        "outputId": "30d1de7a-1058-420a-c7c2-030b96a606d4"
      },
      "source": [
        "data.BULLET_POINTS[1]"
      ],
      "execution_count": null,
      "outputs": [
        {
          "output_type": "execute_result",
          "data": {
            "application/vnd.google.colaboratory.intrinsic+json": {
              "type": "string"
            },
            "text/plain": [
              "'[Cat In A Tea Cup by New Yorker cover artist Gurbuz Dogan Eksioglu,Handsome cello wrapped hard magnet,Ideal for home or office, or for a gift and for any New Yorker magazine lover,It highlight one of the many beautiful New Yorker covers in full color,Rigid magnet measures 2. 5-Inch width by 3. 5-Inch height]'"
            ]
          },
          "metadata": {
            "tags": []
          },
          "execution_count": 4
        }
      ]
    },
    {
      "cell_type": "code",
      "metadata": {
        "id": "bbTL43RznLUp"
      },
      "source": [
        "data = data[data.groupby('BROWSE_NODE_ID')['BROWSE_NODE_ID'].transform('count').ge(500)]"
      ],
      "execution_count": null,
      "outputs": []
    },
    {
      "cell_type": "code",
      "metadata": {
        "colab": {
          "base_uri": "https://localhost:8080/"
        },
        "id": "SdOLR-CKnLUq",
        "outputId": "4ebdde93-301f-4d97-fa5f-e29d928892cb"
      },
      "source": [
        "data.isna().sum()"
      ],
      "execution_count": null,
      "outputs": [
        {
          "output_type": "execute_result",
          "data": {
            "text/plain": [
              "TITLE                 64\n",
              "BRAND              42518\n",
              "DESCRIPTION       605358\n",
              "BULLET_POINTS     122539\n",
              "BROWSE_NODE_ID         0\n",
              "dtype: int64"
            ]
          },
          "metadata": {
            "tags": []
          },
          "execution_count": 6
        }
      ]
    },
    {
      "cell_type": "code",
      "metadata": {
        "colab": {
          "base_uri": "https://localhost:8080/",
          "height": 417
        },
        "id": "lX0QLIeWnLUq",
        "outputId": "61766bea-82c1-446c-f294-acf439e34a48"
      },
      "source": [
        "data = data.fillna(\"\")\n",
        "data.reset_index(drop=True)"
      ],
      "execution_count": null,
      "outputs": [
        {
          "output_type": "execute_result",
          "data": {
            "text/html": [
              "<div>\n",
              "<style scoped>\n",
              "    .dataframe tbody tr th:only-of-type {\n",
              "        vertical-align: middle;\n",
              "    }\n",
              "\n",
              "    .dataframe tbody tr th {\n",
              "        vertical-align: top;\n",
              "    }\n",
              "\n",
              "    .dataframe thead th {\n",
              "        text-align: right;\n",
              "    }\n",
              "</style>\n",
              "<table border=\"1\" class=\"dataframe\">\n",
              "  <thead>\n",
              "    <tr style=\"text-align: right;\">\n",
              "      <th></th>\n",
              "      <th>TITLE</th>\n",
              "      <th>BRAND</th>\n",
              "      <th>DESCRIPTION</th>\n",
              "      <th>BULLET_POINTS</th>\n",
              "      <th>BROWSE_NODE_ID</th>\n",
              "    </tr>\n",
              "  </thead>\n",
              "  <tbody>\n",
              "    <tr>\n",
              "      <th>0</th>\n",
              "      <td>Pete The Cat Bedtime Blues Doll, 14.5 Inch</td>\n",
              "      <td>MerryMakers</td>\n",
              "      <td>Pete the Cat is the coolest, most popular cat ...</td>\n",
              "      <td>[Pete the Cat Bedtime Blues plush doll,Based o...</td>\n",
              "      <td>0</td>\n",
              "    </tr>\n",
              "    <tr>\n",
              "      <th>1</th>\n",
              "      <td>The New Yorker NYHM014 Refrigerator Magnet, 2 ...</td>\n",
              "      <td>The New Yorker</td>\n",
              "      <td>The New Yorker Handsome Cello Wrapped Hard Mag...</td>\n",
              "      <td>[Cat In A Tea Cup by New Yorker cover artist G...</td>\n",
              "      <td>1</td>\n",
              "    </tr>\n",
              "    <tr>\n",
              "      <th>2</th>\n",
              "      <td>Teacher Planner Company A4 6 Lesson Academic T...</td>\n",
              "      <td></td>\n",
              "      <td></td>\n",
              "      <td></td>\n",
              "      <td>4</td>\n",
              "    </tr>\n",
              "    <tr>\n",
              "      <th>3</th>\n",
              "      <td>Men'S Full Sleeve Raglan T-Shirts Denim T-Shir...</td>\n",
              "      <td>Bhavya Enterprise</td>\n",
              "      <td>Men'S Full Sleeve Raglan T-Shirts Denim T-Shir...</td>\n",
              "      <td>[Color: Blue,Sleeve: Full Sleeve,Material: Cot...</td>\n",
              "      <td>5</td>\n",
              "    </tr>\n",
              "    <tr>\n",
              "      <th>4</th>\n",
              "      <td>Glance Women's Wallet (Black) (LW-21)</td>\n",
              "      <td>Glance</td>\n",
              "      <td>This Black wallet by Glance will be a treasure...</td>\n",
              "      <td>[The Most Comfortable Women's Wallet That You ...</td>\n",
              "      <td>6</td>\n",
              "    </tr>\n",
              "    <tr>\n",
              "      <th>...</th>\n",
              "      <td>...</td>\n",
              "      <td>...</td>\n",
              "      <td>...</td>\n",
              "      <td>...</td>\n",
              "      <td>...</td>\n",
              "    </tr>\n",
              "    <tr>\n",
              "      <th>2357831</th>\n",
              "      <td>Holy Heart Collections Supremo Zig Zag Line Pr...</td>\n",
              "      <td>Holy Heart Collections</td>\n",
              "      <td>Holy Heart Collections presents flower print b...</td>\n",
              "      <td>[Color : Multicolor, Material : Fine Polyester...</td>\n",
              "      <td>739</td>\n",
              "    </tr>\n",
              "    <tr>\n",
              "      <th>2357832</th>\n",
              "      <td>GVND 6 Pack Abs Exercise Machine with Multi Pu...</td>\n",
              "      <td>Gvnd</td>\n",
              "      <td>&lt;p&gt;&lt;strong&gt;GVND Six pack Abs is the revolution...</td>\n",
              "      <td>[Multiple Exercise Modes: This Abdominal Train...</td>\n",
              "      <td>1835</td>\n",
              "    </tr>\n",
              "    <tr>\n",
              "      <th>2357833</th>\n",
              "      <td>Premium Aviator Sunglasses - HD Polarized (Bri...</td>\n",
              "      <td>Generic</td>\n",
              "      <td>These premium Aviator Sunglasses with 5 color ...</td>\n",
              "      <td>[Frame size: Lens height - 56mm, Lens width - ...</td>\n",
              "      <td>1040</td>\n",
              "    </tr>\n",
              "    <tr>\n",
              "      <th>2357834</th>\n",
              "      <td>Social Distance Stickers - Set of 5 Sticker Sl...</td>\n",
              "      <td>Generic</td>\n",
              "      <td>set of 5 prints social distancing sticker self...</td>\n",
              "      <td>[covid19 safety sticker - set of 5 to maintain...</td>\n",
              "      <td>15199</td>\n",
              "    </tr>\n",
              "    <tr>\n",
              "      <th>2357835</th>\n",
              "      <td>KNG Orange Polo Tshirt (38)</td>\n",
              "      <td>KNG</td>\n",
              "      <td>Performance inspired by comfort. The polo shir...</td>\n",
              "      <td></td>\n",
              "      <td>1213</td>\n",
              "    </tr>\n",
              "  </tbody>\n",
              "</table>\n",
              "<p>2357836 rows × 5 columns</p>\n",
              "</div>"
            ],
            "text/plain": [
              "                                                     TITLE  ... BROWSE_NODE_ID\n",
              "0               Pete The Cat Bedtime Blues Doll, 14.5 Inch  ...              0\n",
              "1        The New Yorker NYHM014 Refrigerator Magnet, 2 ...  ...              1\n",
              "2        Teacher Planner Company A4 6 Lesson Academic T...  ...              4\n",
              "3        Men'S Full Sleeve Raglan T-Shirts Denim T-Shir...  ...              5\n",
              "4                    Glance Women's Wallet (Black) (LW-21)  ...              6\n",
              "...                                                    ...  ...            ...\n",
              "2357831  Holy Heart Collections Supremo Zig Zag Line Pr...  ...            739\n",
              "2357832  GVND 6 Pack Abs Exercise Machine with Multi Pu...  ...           1835\n",
              "2357833  Premium Aviator Sunglasses - HD Polarized (Bri...  ...           1040\n",
              "2357834  Social Distance Stickers - Set of 5 Sticker Sl...  ...          15199\n",
              "2357835                        KNG Orange Polo Tshirt (38)  ...           1213\n",
              "\n",
              "[2357836 rows x 5 columns]"
            ]
          },
          "metadata": {
            "tags": []
          },
          "execution_count": 7
        }
      ]
    },
    {
      "cell_type": "code",
      "metadata": {
        "id": "RkQIlLq-nLUr"
      },
      "source": [
        "data.BULLET_POINTS = data.BULLET_POINTS.astype(str) \n",
        "data.BRAND = data.BRAND.astype(str)\n",
        "data.TITLE = data.TITLE.astype(str)\n",
        "data.DESCRIPTION = data.DESCRIPTION.astype(str)"
      ],
      "execution_count": null,
      "outputs": []
    },
    {
      "cell_type": "code",
      "metadata": {
        "id": "CYFIx27RnLUs"
      },
      "source": [
        "data['combined'] = data.TITLE+\" \"+data.DESCRIPTION+\" \"+data.BRAND+\" \"+data.BULLET_POINTS"
      ],
      "execution_count": null,
      "outputs": []
    },
    {
      "cell_type": "code",
      "metadata": {
        "colab": {
          "base_uri": "https://localhost:8080/",
          "height": 86
        },
        "id": "07xkQDvPnLUt",
        "outputId": "96e2f9fe-f9c3-4c8c-8f05-8df5cab059ea"
      },
      "source": [
        "data.combined[0]"
      ],
      "execution_count": null,
      "outputs": [
        {
          "output_type": "execute_result",
          "data": {
            "application/vnd.google.colaboratory.intrinsic+json": {
              "type": "string"
            },
            "text/plain": [
              "\"Pete The Cat Bedtime Blues Doll, 14.5 Inch Pete the Cat is the coolest, most popular cat in town. The new Pete the Cat Bedtime Blues Doll from MerryMakers rocks his striped pj's and red slippers. He is one sleepy cat and is ready to cuddle. Measures 14.5 inches tall. Safe for all ages. Removable clothing. Surface wash only. New 2015 MerryMakers [Pete the Cat Bedtime Blues plush doll,Based on the popular Pete the Cat books by James Dean,Super cuddly and ready for naptime and bedtime,Safe for all ages, perfect for ages 2 and up,Measures 14. 5 inches]\""
            ]
          },
          "metadata": {
            "tags": []
          },
          "execution_count": 12
        }
      ]
    },
    {
      "cell_type": "code",
      "metadata": {
        "colab": {
          "base_uri": "https://localhost:8080/",
          "height": 585
        },
        "id": "1pe-SUoNnLUu",
        "outputId": "e4c8b253-97fd-419e-bb9a-2e9f74530a9b"
      },
      "source": [
        "data.reset_index(drop=True)"
      ],
      "execution_count": null,
      "outputs": [
        {
          "output_type": "execute_result",
          "data": {
            "text/html": [
              "<div>\n",
              "<style scoped>\n",
              "    .dataframe tbody tr th:only-of-type {\n",
              "        vertical-align: middle;\n",
              "    }\n",
              "\n",
              "    .dataframe tbody tr th {\n",
              "        vertical-align: top;\n",
              "    }\n",
              "\n",
              "    .dataframe thead th {\n",
              "        text-align: right;\n",
              "    }\n",
              "</style>\n",
              "<table border=\"1\" class=\"dataframe\">\n",
              "  <thead>\n",
              "    <tr style=\"text-align: right;\">\n",
              "      <th></th>\n",
              "      <th>TITLE</th>\n",
              "      <th>BRAND</th>\n",
              "      <th>DESCRIPTION</th>\n",
              "      <th>BULLET_POINTS</th>\n",
              "      <th>BROWSE_NODE_ID</th>\n",
              "      <th>combined</th>\n",
              "    </tr>\n",
              "  </thead>\n",
              "  <tbody>\n",
              "    <tr>\n",
              "      <th>0</th>\n",
              "      <td>Pete The Cat Bedtime Blues Doll, 14.5 Inch</td>\n",
              "      <td>MerryMakers</td>\n",
              "      <td>Pete the Cat is the coolest, most popular cat ...</td>\n",
              "      <td>[Pete the Cat Bedtime Blues plush doll,Based o...</td>\n",
              "      <td>0</td>\n",
              "      <td>Pete The Cat Bedtime Blues Doll, 14.5 Inch Pet...</td>\n",
              "    </tr>\n",
              "    <tr>\n",
              "      <th>1</th>\n",
              "      <td>The New Yorker NYHM014 Refrigerator Magnet, 2 ...</td>\n",
              "      <td>The New Yorker</td>\n",
              "      <td>The New Yorker Handsome Cello Wrapped Hard Mag...</td>\n",
              "      <td>[Cat In A Tea Cup by New Yorker cover artist G...</td>\n",
              "      <td>1</td>\n",
              "      <td>The New Yorker NYHM014 Refrigerator Magnet, 2 ...</td>\n",
              "    </tr>\n",
              "    <tr>\n",
              "      <th>2</th>\n",
              "      <td>Teacher Planner Company A4 6 Lesson Academic T...</td>\n",
              "      <td></td>\n",
              "      <td></td>\n",
              "      <td></td>\n",
              "      <td>4</td>\n",
              "      <td>Teacher Planner Company A4 6 Lesson Academic T...</td>\n",
              "    </tr>\n",
              "    <tr>\n",
              "      <th>3</th>\n",
              "      <td>Men'S Full Sleeve Raglan T-Shirts Denim T-Shir...</td>\n",
              "      <td>Bhavya Enterprise</td>\n",
              "      <td>Men'S Full Sleeve Raglan T-Shirts Denim T-Shir...</td>\n",
              "      <td>[Color: Blue,Sleeve: Full Sleeve,Material: Cot...</td>\n",
              "      <td>5</td>\n",
              "      <td>Men'S Full Sleeve Raglan T-Shirts Denim T-Shir...</td>\n",
              "    </tr>\n",
              "    <tr>\n",
              "      <th>4</th>\n",
              "      <td>Glance Women's Wallet (Black) (LW-21)</td>\n",
              "      <td>Glance</td>\n",
              "      <td>This Black wallet by Glance will be a treasure...</td>\n",
              "      <td>[The Most Comfortable Women's Wallet That You ...</td>\n",
              "      <td>6</td>\n",
              "      <td>Glance Women's Wallet (Black) (LW-21) This Bla...</td>\n",
              "    </tr>\n",
              "    <tr>\n",
              "      <th>...</th>\n",
              "      <td>...</td>\n",
              "      <td>...</td>\n",
              "      <td>...</td>\n",
              "      <td>...</td>\n",
              "      <td>...</td>\n",
              "      <td>...</td>\n",
              "    </tr>\n",
              "    <tr>\n",
              "      <th>2357831</th>\n",
              "      <td>Holy Heart Collections Supremo Zig Zag Line Pr...</td>\n",
              "      <td>Holy Heart Collections</td>\n",
              "      <td>Holy Heart Collections presents flower print b...</td>\n",
              "      <td>[Color : Multicolor, Material : Fine Polyester...</td>\n",
              "      <td>739</td>\n",
              "      <td>Holy Heart Collections Supremo Zig Zag Line Pr...</td>\n",
              "    </tr>\n",
              "    <tr>\n",
              "      <th>2357832</th>\n",
              "      <td>GVND 6 Pack Abs Exercise Machine with Multi Pu...</td>\n",
              "      <td>Gvnd</td>\n",
              "      <td>&lt;p&gt;&lt;strong&gt;GVND Six pack Abs is the revolution...</td>\n",
              "      <td>[Multiple Exercise Modes: This Abdominal Train...</td>\n",
              "      <td>1835</td>\n",
              "      <td>GVND 6 Pack Abs Exercise Machine with Multi Pu...</td>\n",
              "    </tr>\n",
              "    <tr>\n",
              "      <th>2357833</th>\n",
              "      <td>Premium Aviator Sunglasses - HD Polarized (Bri...</td>\n",
              "      <td>Generic</td>\n",
              "      <td>These premium Aviator Sunglasses with 5 color ...</td>\n",
              "      <td>[Frame size: Lens height - 56mm, Lens width - ...</td>\n",
              "      <td>1040</td>\n",
              "      <td>Premium Aviator Sunglasses - HD Polarized (Bri...</td>\n",
              "    </tr>\n",
              "    <tr>\n",
              "      <th>2357834</th>\n",
              "      <td>Social Distance Stickers - Set of 5 Sticker Sl...</td>\n",
              "      <td>Generic</td>\n",
              "      <td>set of 5 prints social distancing sticker self...</td>\n",
              "      <td>[covid19 safety sticker - set of 5 to maintain...</td>\n",
              "      <td>15199</td>\n",
              "      <td>Social Distance Stickers - Set of 5 Sticker Sl...</td>\n",
              "    </tr>\n",
              "    <tr>\n",
              "      <th>2357835</th>\n",
              "      <td>KNG Orange Polo Tshirt (38)</td>\n",
              "      <td>KNG</td>\n",
              "      <td>Performance inspired by comfort. The polo shir...</td>\n",
              "      <td></td>\n",
              "      <td>1213</td>\n",
              "      <td>KNG Orange Polo Tshirt (38) Performance inspir...</td>\n",
              "    </tr>\n",
              "  </tbody>\n",
              "</table>\n",
              "<p>2357836 rows × 6 columns</p>\n",
              "</div>"
            ],
            "text/plain": [
              "                                                     TITLE  ...                                           combined\n",
              "0               Pete The Cat Bedtime Blues Doll, 14.5 Inch  ...  Pete The Cat Bedtime Blues Doll, 14.5 Inch Pet...\n",
              "1        The New Yorker NYHM014 Refrigerator Magnet, 2 ...  ...  The New Yorker NYHM014 Refrigerator Magnet, 2 ...\n",
              "2        Teacher Planner Company A4 6 Lesson Academic T...  ...  Teacher Planner Company A4 6 Lesson Academic T...\n",
              "3        Men'S Full Sleeve Raglan T-Shirts Denim T-Shir...  ...  Men'S Full Sleeve Raglan T-Shirts Denim T-Shir...\n",
              "4                    Glance Women's Wallet (Black) (LW-21)  ...  Glance Women's Wallet (Black) (LW-21) This Bla...\n",
              "...                                                    ...  ...                                                ...\n",
              "2357831  Holy Heart Collections Supremo Zig Zag Line Pr...  ...  Holy Heart Collections Supremo Zig Zag Line Pr...\n",
              "2357832  GVND 6 Pack Abs Exercise Machine with Multi Pu...  ...  GVND 6 Pack Abs Exercise Machine with Multi Pu...\n",
              "2357833  Premium Aviator Sunglasses - HD Polarized (Bri...  ...  Premium Aviator Sunglasses - HD Polarized (Bri...\n",
              "2357834  Social Distance Stickers - Set of 5 Sticker Sl...  ...  Social Distance Stickers - Set of 5 Sticker Sl...\n",
              "2357835                        KNG Orange Polo Tshirt (38)  ...  KNG Orange Polo Tshirt (38) Performance inspir...\n",
              "\n",
              "[2357836 rows x 6 columns]"
            ]
          },
          "metadata": {
            "tags": []
          },
          "execution_count": 13
        }
      ]
    },
    {
      "cell_type": "code",
      "metadata": {
        "colab": {
          "base_uri": "https://localhost:8080/",
          "height": 525
        },
        "id": "DilwFdtiqmMY",
        "outputId": "1ab5cd78-abf4-490a-93ac-e9c5df22b8a2"
      },
      "source": [
        "data.head(10)"
      ],
      "execution_count": null,
      "outputs": [
        {
          "output_type": "execute_result",
          "data": {
            "text/html": [
              "<div>\n",
              "<style scoped>\n",
              "    .dataframe tbody tr th:only-of-type {\n",
              "        vertical-align: middle;\n",
              "    }\n",
              "\n",
              "    .dataframe tbody tr th {\n",
              "        vertical-align: top;\n",
              "    }\n",
              "\n",
              "    .dataframe thead th {\n",
              "        text-align: right;\n",
              "    }\n",
              "</style>\n",
              "<table border=\"1\" class=\"dataframe\">\n",
              "  <thead>\n",
              "    <tr style=\"text-align: right;\">\n",
              "      <th></th>\n",
              "      <th>TITLE</th>\n",
              "      <th>BRAND</th>\n",
              "      <th>DESCRIPTION</th>\n",
              "      <th>BULLET_POINTS</th>\n",
              "      <th>BROWSE_NODE_ID</th>\n",
              "      <th>combined</th>\n",
              "    </tr>\n",
              "  </thead>\n",
              "  <tbody>\n",
              "    <tr>\n",
              "      <th>0</th>\n",
              "      <td>Pete The Cat Bedtime Blues Doll, 14.5 Inch</td>\n",
              "      <td>MerryMakers</td>\n",
              "      <td>Pete the Cat is the coolest, most popular cat ...</td>\n",
              "      <td>[Pete the Cat Bedtime Blues plush doll,Based o...</td>\n",
              "      <td>0</td>\n",
              "      <td>Pete The Cat Bedtime Blues Doll, 14.5 Inch Pet...</td>\n",
              "    </tr>\n",
              "    <tr>\n",
              "      <th>1</th>\n",
              "      <td>The New Yorker NYHM014 Refrigerator Magnet, 2 ...</td>\n",
              "      <td>The New Yorker</td>\n",
              "      <td>The New Yorker Handsome Cello Wrapped Hard Mag...</td>\n",
              "      <td>[Cat In A Tea Cup by New Yorker cover artist G...</td>\n",
              "      <td>1</td>\n",
              "      <td>The New Yorker NYHM014 Refrigerator Magnet, 2 ...</td>\n",
              "    </tr>\n",
              "    <tr>\n",
              "      <th>4</th>\n",
              "      <td>Teacher Planner Company A4 6 Lesson Academic T...</td>\n",
              "      <td></td>\n",
              "      <td></td>\n",
              "      <td></td>\n",
              "      <td>4</td>\n",
              "      <td>Teacher Planner Company A4 6 Lesson Academic T...</td>\n",
              "    </tr>\n",
              "    <tr>\n",
              "      <th>5</th>\n",
              "      <td>Men'S Full Sleeve Raglan T-Shirts Denim T-Shir...</td>\n",
              "      <td>Bhavya Enterprise</td>\n",
              "      <td>Men'S Full Sleeve Raglan T-Shirts Denim T-Shir...</td>\n",
              "      <td>[Color: Blue,Sleeve: Full Sleeve,Material: Cot...</td>\n",
              "      <td>5</td>\n",
              "      <td>Men'S Full Sleeve Raglan T-Shirts Denim T-Shir...</td>\n",
              "    </tr>\n",
              "    <tr>\n",
              "      <th>6</th>\n",
              "      <td>Glance Women's Wallet (Black) (LW-21)</td>\n",
              "      <td>Glance</td>\n",
              "      <td>This Black wallet by Glance will be a treasure...</td>\n",
              "      <td>[The Most Comfortable Women's Wallet That You ...</td>\n",
              "      <td>6</td>\n",
              "      <td>Glance Women's Wallet (Black) (LW-21) This Bla...</td>\n",
              "    </tr>\n",
              "    <tr>\n",
              "      <th>9</th>\n",
              "      <td>Chapin 1380 Premier Pro 3-Gallon Tri-Poxy Stee...</td>\n",
              "      <td>Chapin International</td>\n",
              "      <td>Chapin 1380 Premier Pro 3-Gallon Tri-Poxy Stee...</td>\n",
              "      <td></td>\n",
              "      <td>9</td>\n",
              "      <td>Chapin 1380 Premier Pro 3-Gallon Tri-Poxy Stee...</td>\n",
              "    </tr>\n",
              "    <tr>\n",
              "      <th>11</th>\n",
              "      <td>White : Braun KF400-WH Aromaster 10-Cup Coffee...</td>\n",
              "      <td>Braun</td>\n",
              "      <td>Color:White Product description 10 Cup Carafe ...</td>\n",
              "      <td>[Water-dispersal system provides fast, uniform...</td>\n",
              "      <td>11</td>\n",
              "      <td>White : Braun KF400-WH Aromaster 10-Cup Coffee...</td>\n",
              "    </tr>\n",
              "    <tr>\n",
              "      <th>13</th>\n",
              "      <td>Microsoft Sidewinder Gamepad Pro</td>\n",
              "      <td>Microsoft</td>\n",
              "      <td></td>\n",
              "      <td>Dual-function D-Pad for comfortable control - ...</td>\n",
              "      <td>13</td>\n",
              "      <td>Microsoft Sidewinder Gamepad Pro  Microsoft Du...</td>\n",
              "    </tr>\n",
              "    <tr>\n",
              "      <th>16</th>\n",
              "      <td>OXO Good Grips BPA-Free Turkey Baster with Cle...</td>\n",
              "      <td>OXO</td>\n",
              "      <td>&lt;b&gt;OXO Good Grips Turkey Baster&lt;/b&gt;&lt;br&gt;&lt;br&gt;&lt;ul...</td>\n",
              "      <td>[Unique bulb shape and collar for two comforta...</td>\n",
              "      <td>16</td>\n",
              "      <td>OXO Good Grips BPA-Free Turkey Baster with Cle...</td>\n",
              "    </tr>\n",
              "    <tr>\n",
              "      <th>19</th>\n",
              "      <td>InterDesign 14 by 9 by 5-Inch Basic Basket, Me...</td>\n",
              "      <td>InterDesign</td>\n",
              "      <td>Plastic basket with chrome handle. You can sto...</td>\n",
              "      <td>[Made of extra durable translucent plastic,Chr...</td>\n",
              "      <td>19</td>\n",
              "      <td>InterDesign 14 by 9 by 5-Inch Basic Basket, Me...</td>\n",
              "    </tr>\n",
              "  </tbody>\n",
              "</table>\n",
              "</div>"
            ],
            "text/plain": [
              "                                                TITLE  ...                                           combined\n",
              "0          Pete The Cat Bedtime Blues Doll, 14.5 Inch  ...  Pete The Cat Bedtime Blues Doll, 14.5 Inch Pet...\n",
              "1   The New Yorker NYHM014 Refrigerator Magnet, 2 ...  ...  The New Yorker NYHM014 Refrigerator Magnet, 2 ...\n",
              "4   Teacher Planner Company A4 6 Lesson Academic T...  ...  Teacher Planner Company A4 6 Lesson Academic T...\n",
              "5   Men'S Full Sleeve Raglan T-Shirts Denim T-Shir...  ...  Men'S Full Sleeve Raglan T-Shirts Denim T-Shir...\n",
              "6               Glance Women's Wallet (Black) (LW-21)  ...  Glance Women's Wallet (Black) (LW-21) This Bla...\n",
              "9   Chapin 1380 Premier Pro 3-Gallon Tri-Poxy Stee...  ...  Chapin 1380 Premier Pro 3-Gallon Tri-Poxy Stee...\n",
              "11  White : Braun KF400-WH Aromaster 10-Cup Coffee...  ...  White : Braun KF400-WH Aromaster 10-Cup Coffee...\n",
              "13                   Microsoft Sidewinder Gamepad Pro  ...  Microsoft Sidewinder Gamepad Pro  Microsoft Du...\n",
              "16  OXO Good Grips BPA-Free Turkey Baster with Cle...  ...  OXO Good Grips BPA-Free Turkey Baster with Cle...\n",
              "19  InterDesign 14 by 9 by 5-Inch Basic Basket, Me...  ...  InterDesign 14 by 9 by 5-Inch Basic Basket, Me...\n",
              "\n",
              "[10 rows x 6 columns]"
            ]
          },
          "metadata": {
            "tags": []
          },
          "execution_count": 14
        }
      ]
    },
    {
      "cell_type": "code",
      "metadata": {
        "id": "pnpEm70kqqe0"
      },
      "source": [
        "data=data.reset_index(drop=True)"
      ],
      "execution_count": null,
      "outputs": []
    },
    {
      "cell_type": "code",
      "metadata": {
        "colab": {
          "base_uri": "https://localhost:8080/",
          "height": 525
        },
        "id": "RRvte5hWqxtB",
        "outputId": "6cb3feb8-2c58-478b-c85a-c37fbb597014"
      },
      "source": [
        "data.head(10)"
      ],
      "execution_count": null,
      "outputs": [
        {
          "output_type": "execute_result",
          "data": {
            "text/html": [
              "<div>\n",
              "<style scoped>\n",
              "    .dataframe tbody tr th:only-of-type {\n",
              "        vertical-align: middle;\n",
              "    }\n",
              "\n",
              "    .dataframe tbody tr th {\n",
              "        vertical-align: top;\n",
              "    }\n",
              "\n",
              "    .dataframe thead th {\n",
              "        text-align: right;\n",
              "    }\n",
              "</style>\n",
              "<table border=\"1\" class=\"dataframe\">\n",
              "  <thead>\n",
              "    <tr style=\"text-align: right;\">\n",
              "      <th></th>\n",
              "      <th>TITLE</th>\n",
              "      <th>BRAND</th>\n",
              "      <th>DESCRIPTION</th>\n",
              "      <th>BULLET_POINTS</th>\n",
              "      <th>BROWSE_NODE_ID</th>\n",
              "      <th>combined</th>\n",
              "    </tr>\n",
              "  </thead>\n",
              "  <tbody>\n",
              "    <tr>\n",
              "      <th>0</th>\n",
              "      <td>Pete The Cat Bedtime Blues Doll, 14.5 Inch</td>\n",
              "      <td>MerryMakers</td>\n",
              "      <td>Pete the Cat is the coolest, most popular cat ...</td>\n",
              "      <td>[Pete the Cat Bedtime Blues plush doll,Based o...</td>\n",
              "      <td>0</td>\n",
              "      <td>Pete The Cat Bedtime Blues Doll, 14.5 Inch Pet...</td>\n",
              "    </tr>\n",
              "    <tr>\n",
              "      <th>1</th>\n",
              "      <td>The New Yorker NYHM014 Refrigerator Magnet, 2 ...</td>\n",
              "      <td>The New Yorker</td>\n",
              "      <td>The New Yorker Handsome Cello Wrapped Hard Mag...</td>\n",
              "      <td>[Cat In A Tea Cup by New Yorker cover artist G...</td>\n",
              "      <td>1</td>\n",
              "      <td>The New Yorker NYHM014 Refrigerator Magnet, 2 ...</td>\n",
              "    </tr>\n",
              "    <tr>\n",
              "      <th>2</th>\n",
              "      <td>Teacher Planner Company A4 6 Lesson Academic T...</td>\n",
              "      <td></td>\n",
              "      <td></td>\n",
              "      <td></td>\n",
              "      <td>4</td>\n",
              "      <td>Teacher Planner Company A4 6 Lesson Academic T...</td>\n",
              "    </tr>\n",
              "    <tr>\n",
              "      <th>3</th>\n",
              "      <td>Men'S Full Sleeve Raglan T-Shirts Denim T-Shir...</td>\n",
              "      <td>Bhavya Enterprise</td>\n",
              "      <td>Men'S Full Sleeve Raglan T-Shirts Denim T-Shir...</td>\n",
              "      <td>[Color: Blue,Sleeve: Full Sleeve,Material: Cot...</td>\n",
              "      <td>5</td>\n",
              "      <td>Men'S Full Sleeve Raglan T-Shirts Denim T-Shir...</td>\n",
              "    </tr>\n",
              "    <tr>\n",
              "      <th>4</th>\n",
              "      <td>Glance Women's Wallet (Black) (LW-21)</td>\n",
              "      <td>Glance</td>\n",
              "      <td>This Black wallet by Glance will be a treasure...</td>\n",
              "      <td>[The Most Comfortable Women's Wallet That You ...</td>\n",
              "      <td>6</td>\n",
              "      <td>Glance Women's Wallet (Black) (LW-21) This Bla...</td>\n",
              "    </tr>\n",
              "    <tr>\n",
              "      <th>5</th>\n",
              "      <td>Chapin 1380 Premier Pro 3-Gallon Tri-Poxy Stee...</td>\n",
              "      <td>Chapin International</td>\n",
              "      <td>Chapin 1380 Premier Pro 3-Gallon Tri-Poxy Stee...</td>\n",
              "      <td></td>\n",
              "      <td>9</td>\n",
              "      <td>Chapin 1380 Premier Pro 3-Gallon Tri-Poxy Stee...</td>\n",
              "    </tr>\n",
              "    <tr>\n",
              "      <th>6</th>\n",
              "      <td>White : Braun KF400-WH Aromaster 10-Cup Coffee...</td>\n",
              "      <td>Braun</td>\n",
              "      <td>Color:White Product description 10 Cup Carafe ...</td>\n",
              "      <td>[Water-dispersal system provides fast, uniform...</td>\n",
              "      <td>11</td>\n",
              "      <td>White : Braun KF400-WH Aromaster 10-Cup Coffee...</td>\n",
              "    </tr>\n",
              "    <tr>\n",
              "      <th>7</th>\n",
              "      <td>Microsoft Sidewinder Gamepad Pro</td>\n",
              "      <td>Microsoft</td>\n",
              "      <td></td>\n",
              "      <td>Dual-function D-Pad for comfortable control - ...</td>\n",
              "      <td>13</td>\n",
              "      <td>Microsoft Sidewinder Gamepad Pro  Microsoft Du...</td>\n",
              "    </tr>\n",
              "    <tr>\n",
              "      <th>8</th>\n",
              "      <td>OXO Good Grips BPA-Free Turkey Baster with Cle...</td>\n",
              "      <td>OXO</td>\n",
              "      <td>&lt;b&gt;OXO Good Grips Turkey Baster&lt;/b&gt;&lt;br&gt;&lt;br&gt;&lt;ul...</td>\n",
              "      <td>[Unique bulb shape and collar for two comforta...</td>\n",
              "      <td>16</td>\n",
              "      <td>OXO Good Grips BPA-Free Turkey Baster with Cle...</td>\n",
              "    </tr>\n",
              "    <tr>\n",
              "      <th>9</th>\n",
              "      <td>InterDesign 14 by 9 by 5-Inch Basic Basket, Me...</td>\n",
              "      <td>InterDesign</td>\n",
              "      <td>Plastic basket with chrome handle. You can sto...</td>\n",
              "      <td>[Made of extra durable translucent plastic,Chr...</td>\n",
              "      <td>19</td>\n",
              "      <td>InterDesign 14 by 9 by 5-Inch Basic Basket, Me...</td>\n",
              "    </tr>\n",
              "  </tbody>\n",
              "</table>\n",
              "</div>"
            ],
            "text/plain": [
              "                                               TITLE  ...                                           combined\n",
              "0         Pete The Cat Bedtime Blues Doll, 14.5 Inch  ...  Pete The Cat Bedtime Blues Doll, 14.5 Inch Pet...\n",
              "1  The New Yorker NYHM014 Refrigerator Magnet, 2 ...  ...  The New Yorker NYHM014 Refrigerator Magnet, 2 ...\n",
              "2  Teacher Planner Company A4 6 Lesson Academic T...  ...  Teacher Planner Company A4 6 Lesson Academic T...\n",
              "3  Men'S Full Sleeve Raglan T-Shirts Denim T-Shir...  ...  Men'S Full Sleeve Raglan T-Shirts Denim T-Shir...\n",
              "4              Glance Women's Wallet (Black) (LW-21)  ...  Glance Women's Wallet (Black) (LW-21) This Bla...\n",
              "5  Chapin 1380 Premier Pro 3-Gallon Tri-Poxy Stee...  ...  Chapin 1380 Premier Pro 3-Gallon Tri-Poxy Stee...\n",
              "6  White : Braun KF400-WH Aromaster 10-Cup Coffee...  ...  White : Braun KF400-WH Aromaster 10-Cup Coffee...\n",
              "7                   Microsoft Sidewinder Gamepad Pro  ...  Microsoft Sidewinder Gamepad Pro  Microsoft Du...\n",
              "8  OXO Good Grips BPA-Free Turkey Baster with Cle...  ...  OXO Good Grips BPA-Free Turkey Baster with Cle...\n",
              "9  InterDesign 14 by 9 by 5-Inch Basic Basket, Me...  ...  InterDesign 14 by 9 by 5-Inch Basic Basket, Me...\n",
              "\n",
              "[10 rows x 6 columns]"
            ]
          },
          "metadata": {
            "tags": []
          },
          "execution_count": 16
        }
      ]
    },
    {
      "cell_type": "code",
      "metadata": {
        "id": "zX_hz8XgnLUv"
      },
      "source": [
        "X = data.combined\n",
        "y = data.BROWSE_NODE_ID"
      ],
      "execution_count": null,
      "outputs": []
    },
    {
      "cell_type": "code",
      "metadata": {
        "id": "bYx4tSxjnLUv"
      },
      "source": [
        "# from gensim.parsing.preprocessing import remove_stopwords as rs\n",
        "\n",
        "# data.TITLE = data[\"TITLE\"].apply(lambda x: rs(x))"
      ],
      "execution_count": null,
      "outputs": []
    },
    {
      "cell_type": "code",
      "metadata": {
        "id": "RUM4_grInLUw"
      },
      "source": [
        "from sklearn.model_selection import StratifiedKFold\n",
        "skf = StratifiedKFold(n_splits=10).split(X, y)\n",
        "_, train_idx = next(skf)\n",
        "_, test_idx = next(skf)"
      ],
      "execution_count": null,
      "outputs": []
    },
    {
      "cell_type": "code",
      "metadata": {
        "scrolled": true,
        "tags": [],
        "id": "zM9bWYk6nLUw"
      },
      "source": [
        "train_data, y_train = X[train_idx], y[train_idx]\n",
        "val_data, y_val = X[test_idx], y[test_idx]"
      ],
      "execution_count": null,
      "outputs": []
    },
    {
      "cell_type": "code",
      "metadata": {
        "colab": {
          "base_uri": "https://localhost:8080/"
        },
        "id": "8U05V6dA167H",
        "outputId": "d1bbb8c8-6979-4dc2-fce2-614a919b09dd"
      },
      "source": [
        "y_val.unique().sum()"
      ],
      "execution_count": null,
      "outputs": [
        {
          "output_type": "execute_result",
          "data": {
            "text/plain": [
              "2498087"
            ]
          },
          "metadata": {
            "tags": []
          },
          "execution_count": 20
        }
      ]
    },
    {
      "cell_type": "code",
      "metadata": {
        "id": "nXIopjKr2FCA"
      },
      "source": [
        "train_data = train_data.reset_index(drop=True)\n",
        "y_train = y_train.reset_index(drop=True)"
      ],
      "execution_count": null,
      "outputs": []
    },
    {
      "cell_type": "code",
      "metadata": {
        "id": "hEF_aCTNnLUx"
      },
      "source": [
        "vectorizer = feature_extraction.text.CountVectorizer(max_features=4000, ngram_range=(1,2))\n",
        "corpus = train_data.astype(str)\n",
        "vectorizer.fit(corpus)\n",
        "X_train = vectorizer.transform(corpus)\n",
        "dic_vocabulary = vectorizer.vocabulary_"
      ],
      "execution_count": null,
      "outputs": []
    },
    {
      "cell_type": "code",
      "metadata": {
        "id": "JSjKsH-5nLUy"
      },
      "source": [
        "#from sklearn.ensemble import BaggingClassifier\n",
        "#clf = BaggingClassifier(n_jobs=10, max_samples=1.0 / 14, n_estimators=14).fit(X_title_tfid, y_train)\n",
        "\n",
        "classifier = naive_bayes.MultinomialNB()\n",
        "\n",
        "#from sklearn.naive_bayes import MultinomialNB\n",
        "#classifier = MultinomialNB()\n",
        "#clf = classifier.fit(X_title_tfid, y_train)\n",
        "\n",
        "#from sklearn.ensemble import RandomForestClassifier\n",
        "# clf = RandomForestClassifier( random_state=0, n_jobs=10).fit(X_title_tfid, y_train)"
      ],
      "execution_count": null,
      "outputs": []
    },
    {
      "cell_type": "code",
      "metadata": {
        "colab": {
          "base_uri": "https://localhost:8080/"
        },
        "id": "E3AMLlZl3GpH",
        "outputId": "f02ffb37-2f09-4fb3-d46a-e3868dd26706"
      },
      "source": [
        "model = pipeline.Pipeline([(\"vectorizer\", vectorizer),  \n",
        "                           (\"classifier\", classifier)])\n",
        "## train classifier\n",
        "model[\"classifier\"].fit(X_train, y_train)"
      ],
      "execution_count": null,
      "outputs": [
        {
          "output_type": "execute_result",
          "data": {
            "text/plain": [
              "MultinomialNB(alpha=1.0, class_prior=None, fit_prior=True)"
            ]
          },
          "metadata": {
            "tags": []
          },
          "execution_count": 24
        }
      ]
    },
    {
      "cell_type": "code",
      "metadata": {
        "id": "8Oek2e_U3MGu"
      },
      "source": [
        "val_data = val_data.fillna(\"\")"
      ],
      "execution_count": null,
      "outputs": []
    },
    {
      "cell_type": "code",
      "metadata": {
        "id": "xtQ1KtId3QRR"
      },
      "source": [
        "predicted = model.predict(val_data)"
      ],
      "execution_count": null,
      "outputs": []
    },
    {
      "cell_type": "code",
      "metadata": {
        "colab": {
          "base_uri": "https://localhost:8080/"
        },
        "id": "omFKM5GE3VX8",
        "outputId": "b25da487-0d66-4791-a254-529ae52b92c2"
      },
      "source": [
        "from sklearn import metrics\n",
        "accuracy = metrics.accuracy_score(y_val, predicted)\n",
        "accuracy"
      ],
      "execution_count": null,
      "outputs": [
        {
          "output_type": "execute_result",
          "data": {
            "text/plain": [
              "0.638771078614325"
            ]
          },
          "metadata": {
            "tags": []
          },
          "execution_count": 25
        }
      ]
    },
    {
      "cell_type": "code",
      "metadata": {
        "id": "B9kG4EHs4IKF"
      },
      "source": [
        "import pickle\n",
        "model = pickle.dump(clf,open('/content/drive/MyDrive/Amazon Challenge/modelMultinomial_BULLET_BRAND.pkl','wb'))"
      ],
      "execution_count": null,
      "outputs": []
    },
    {
      "cell_type": "code",
      "metadata": {
        "colab": {
          "base_uri": "https://localhost:8080/"
        },
        "id": "8gMfuSzRQYb-",
        "outputId": "8a18a183-6587-4a5c-847a-ae0f0d41d6a8"
      },
      "source": [
        "import numpy as np\n",
        "import csv\n",
        "import pandas as pd\n",
        "from google.colab import drive\n",
        "drive.mount('/content/drive')"
      ],
      "execution_count": null,
      "outputs": [
        {
          "output_type": "stream",
          "text": [
            "Mounted at /content/drive\n"
          ],
          "name": "stdout"
        }
      ]
    },
    {
      "cell_type": "code",
      "metadata": {
        "id": "bOliK8bSQpML"
      },
      "source": [
        "import pickle\n",
        "clf = pickle.load(open('/content/drive/MyDrive/Amazon Challenge/modelMultinomial.pkl','rb'))"
      ],
      "execution_count": null,
      "outputs": []
    },
    {
      "cell_type": "code",
      "metadata": {
        "colab": {
          "base_uri": "https://localhost:8080/"
        },
        "id": "c6hTNg9KRCJw",
        "outputId": "79ee7978-18b0-4e24-c737-e865fe39c7e7"
      },
      "source": [
        "clf"
      ],
      "execution_count": null,
      "outputs": [
        {
          "output_type": "execute_result",
          "data": {
            "text/plain": [
              "MultinomialNB(alpha=1.0, class_prior=None, fit_prior=True)"
            ]
          },
          "metadata": {
            "tags": []
          },
          "execution_count": 25
        }
      ]
    },
    {
      "cell_type": "code",
      "metadata": {
        "id": "B64S-WfpnLUy"
      },
      "source": [
        "X_title_val = countvect.transform(val_data)\n",
        "X_title_tfid_val = tfidf_transformer.transform(X_title_val)\n",
        "\n",
        "#clf.score(X_title_tfid_val,y_val)"
      ],
      "execution_count": null,
      "outputs": []
    },
    {
      "cell_type": "code",
      "metadata": {
        "id": "UiVxgR7vnLUy"
      },
      "source": [
        "test_data = pd.read_csv(\"/content/drive/MyDrive/Amazon Challenge/cleaned_test_all_all.csv\", escapechar = \"\\\\\", quoting = csv.QUOTE_NONE)"
      ],
      "execution_count": null,
      "outputs": []
    },
    {
      "cell_type": "code",
      "metadata": {
        "colab": {
          "base_uri": "https://localhost:8080/",
          "height": 585
        },
        "id": "6fk3kyf_gI4D",
        "outputId": "911d5a85-7d59-4257-b707-e0d9d1830739"
      },
      "source": [
        "test_data"
      ],
      "execution_count": null,
      "outputs": [
        {
          "output_type": "execute_result",
          "data": {
            "text/html": [
              "<div>\n",
              "<style scoped>\n",
              "    .dataframe tbody tr th:only-of-type {\n",
              "        vertical-align: middle;\n",
              "    }\n",
              "\n",
              "    .dataframe tbody tr th {\n",
              "        vertical-align: top;\n",
              "    }\n",
              "\n",
              "    .dataframe thead th {\n",
              "        text-align: right;\n",
              "    }\n",
              "</style>\n",
              "<table border=\"1\" class=\"dataframe\">\n",
              "  <thead>\n",
              "    <tr style=\"text-align: right;\">\n",
              "      <th></th>\n",
              "      <th>Unnamed: 0</th>\n",
              "      <th>PRODUCT_ID</th>\n",
              "      <th>combined_clean</th>\n",
              "      <th>combined_clean_all</th>\n",
              "      <th>combined_clean_all_all</th>\n",
              "    </tr>\n",
              "  </thead>\n",
              "  <tbody>\n",
              "    <tr>\n",
              "      <th>0</th>\n",
              "      <td>0</td>\n",
              "      <td>1</td>\n",
              "      <td>command 3m small kitchen hook white decor dama...</td>\n",
              "      <td>command 3m small kitchen hook white decor dama...</td>\n",
              "      <td>command 3m small kitchen hook white decor dama...</td>\n",
              "    </tr>\n",
              "    <tr>\n",
              "      <th>1</th>\n",
              "      <td>1</td>\n",
              "      <td>2</td>\n",
              "      <td>oneal jump hardwar jag unisexadult glove black...</td>\n",
              "      <td>oneal jump hardwar jag unisexadult glove black...</td>\n",
              "      <td>oneal jump hardwar jag unisexadult glove black...</td>\n",
              "    </tr>\n",
              "    <tr>\n",
              "      <th>2</th>\n",
              "      <td>2</td>\n",
              "      <td>3</td>\n",
              "      <td>nfl detroit lion portabl parti fridg 158 quart...</td>\n",
              "      <td>nfl detroit lion portabl parti fridg 158 quart...</td>\n",
              "      <td>nfl detroit lion portabl parti fridg 158 quart...</td>\n",
              "    </tr>\n",
              "    <tr>\n",
              "      <th>3</th>\n",
              "      <td>3</td>\n",
              "      <td>4</td>\n",
              "      <td>panason singl line kxts880mx cord phone white ...</td>\n",
              "      <td>panason singl line kxts880mx cord phone white ...</td>\n",
              "      <td>panason singl line kxts880mx cord phone white ...</td>\n",
              "    </tr>\n",
              "    <tr>\n",
              "      <th>4</th>\n",
              "      <td>4</td>\n",
              "      <td>5</td>\n",
              "      <td>zero babi girl 100 cotton innerwear bloomer dr...</td>\n",
              "      <td>zero babi girl 100 cotton innerwear bloomer dr...</td>\n",
              "      <td>zero babi girl 100 cotton innerwear bloomer dr...</td>\n",
              "    </tr>\n",
              "    <tr>\n",
              "      <th>...</th>\n",
              "      <td>...</td>\n",
              "      <td>...</td>\n",
              "      <td>...</td>\n",
              "      <td>...</td>\n",
              "      <td>...</td>\n",
              "    </tr>\n",
              "    <tr>\n",
              "      <th>110770</th>\n",
              "      <td>110770</td>\n",
              "      <td>110771</td>\n",
              "      <td>aahna e mall oneblad hybrid trimmer shaver edg...</td>\n",
              "      <td>aahna e mall oneblad hybrid trimmer shaver edg...</td>\n",
              "      <td>aahna e mall oneblad hybrid trimmer shaver edg...</td>\n",
              "    </tr>\n",
              "    <tr>\n",
              "      <th>110771</th>\n",
              "      <td>110771</td>\n",
              "      <td>110772</td>\n",
              "      <td>grin health n99 anti pollut reusabl washabl ma...</td>\n",
              "      <td>grin health n99 anti pollut reusabl washabl ma...</td>\n",
              "      <td>grin health n99 anti pollut reusabl washabl ma...</td>\n",
              "    </tr>\n",
              "    <tr>\n",
              "      <th>110772</th>\n",
              "      <td>110772</td>\n",
              "      <td>110773</td>\n",
              "      <td>asian armi pink ultra reusabl respir cloth mas...</td>\n",
              "      <td>asian armi pink ultra reusabl respir cloth mas...</td>\n",
              "      <td>asian armi pink ultra reusabl respir cloth mas...</td>\n",
              "    </tr>\n",
              "    <tr>\n",
              "      <th>110773</th>\n",
              "      <td>110773</td>\n",
              "      <td>110774</td>\n",
              "      <td>im safe 3 pli nonwoven dispos surgic face mask...</td>\n",
              "      <td>im safe 3 pli nonwoven dispos surgic face mask...</td>\n",
              "      <td>im safe 3 pli nonwoven dispos surgic face mask...</td>\n",
              "    </tr>\n",
              "    <tr>\n",
              "      <th>110774</th>\n",
              "      <td>110774</td>\n",
              "      <td>110775</td>\n",
              "      <td>artifi 100 cotton unisex reusabl breathabl was...</td>\n",
              "      <td>artifi 100 cotton unisex reusabl breathabl was...</td>\n",
              "      <td>artifi 100 cotton unisex reusabl breathabl was...</td>\n",
              "    </tr>\n",
              "  </tbody>\n",
              "</table>\n",
              "<p>110775 rows × 5 columns</p>\n",
              "</div>"
            ],
            "text/plain": [
              "        Unnamed: 0  ...                             combined_clean_all_all\n",
              "0                0  ...  command 3m small kitchen hook white decor dama...\n",
              "1                1  ...  oneal jump hardwar jag unisexadult glove black...\n",
              "2                2  ...  nfl detroit lion portabl parti fridg 158 quart...\n",
              "3                3  ...  panason singl line kxts880mx cord phone white ...\n",
              "4                4  ...  zero babi girl 100 cotton innerwear bloomer dr...\n",
              "...            ...  ...                                                ...\n",
              "110770      110770  ...  aahna e mall oneblad hybrid trimmer shaver edg...\n",
              "110771      110771  ...  grin health n99 anti pollut reusabl washabl ma...\n",
              "110772      110772  ...  asian armi pink ultra reusabl respir cloth mas...\n",
              "110773      110773  ...  im safe 3 pli nonwoven dispos surgic face mask...\n",
              "110774      110774  ...  artifi 100 cotton unisex reusabl breathabl was...\n",
              "\n",
              "[110775 rows x 5 columns]"
            ]
          },
          "metadata": {
            "tags": []
          },
          "execution_count": 28
        }
      ]
    },
    {
      "cell_type": "code",
      "metadata": {
        "id": "qlxF0dHlgSt7"
      },
      "source": [
        "test_data['combined_clean_all_all']= test_data.combined_clean_all_all.astype(str)"
      ],
      "execution_count": null,
      "outputs": []
    },
    {
      "cell_type": "code",
      "metadata": {
        "id": "GLf0xCFtgq6q"
      },
      "source": [
        ""
      ],
      "execution_count": null,
      "outputs": []
    },
    {
      "cell_type": "code",
      "metadata": {
        "id": "Ra-eYhBEnLUz"
      },
      "source": [
        "test_data.isna().sum()\n",
        "test_data = test_data.fillna(\"\")"
      ],
      "execution_count": null,
      "outputs": []
    },
    {
      "cell_type": "code",
      "metadata": {
        "id": "5eQxqS4knLUz"
      },
      "source": [
        "test_data.BULLET_POINTS = test_data.BULLET_POINTS.astype(str)\n",
        "test_data.BRAND = test_data.BRAND.astype(str)\n",
        "test_data.TITLE = test_data.TITLE.astype(str)\n",
        "test_data.DESCRIPTION = test_data.DESCRIPTION.astype(str)"
      ],
      "execution_count": null,
      "outputs": []
    },
    {
      "cell_type": "code",
      "metadata": {
        "id": "_PFaFq_knLUz"
      },
      "source": [
        "test_data['combined'] = test_data.TITLE + \" \" + test_data.BULLET_POINTS+ \" \" + test_data.BRAND"
      ],
      "execution_count": null,
      "outputs": []
    },
    {
      "cell_type": "code",
      "metadata": {
        "colab": {
          "base_uri": "https://localhost:8080/",
          "height": 35
        },
        "id": "KGY21TWBxR5x",
        "outputId": "310a6fe4-a009-4a00-ac33-be23705f7ef9"
      },
      "source": [
        "test_data.combined[1]"
      ],
      "execution_count": null,
      "outputs": [
        {
          "output_type": "execute_result",
          "data": {
            "application/vnd.google.colaboratory.intrinsic+json": {
              "type": "string"
            },
            "text/plain": [
              "\"O'Neal Jump Hardware JAG Unisex-Adult Glove (Black/Red, 11) Synthetic leather palm with double-layer thumb reinforcement. Hook-and-loop adjustable wrist closure.\""
            ]
          },
          "metadata": {
            "tags": []
          },
          "execution_count": 29
        }
      ]
    },
    {
      "cell_type": "code",
      "metadata": {
        "id": "Jxdq_JuAnLUz"
      },
      "source": [
        "sub = pd.DataFrame(columns=['PRODUCT_ID', 'BROWSE_NODE_ID'])"
      ],
      "execution_count": null,
      "outputs": []
    },
    {
      "cell_type": "code",
      "metadata": {
        "id": "buQA29jvnLU0"
      },
      "source": [
        "sub['PRODUCT_ID'] = test_data['PRODUCT_ID']"
      ],
      "execution_count": null,
      "outputs": []
    },
    {
      "cell_type": "code",
      "metadata": {
        "id": "3TuasU4hgvU8"
      },
      "source": [
        "sub['BROWSE_NODE_ID'] = model.predict(test_data.combined_clean_all_all)"
      ],
      "execution_count": null,
      "outputs": []
    },
    {
      "cell_type": "code",
      "metadata": {
        "id": "qMt_gTD_4Cu5"
      },
      "source": [
        "sub['BROWSE_NODE_ID'] = model.predict(test_data.combined)"
      ],
      "execution_count": null,
      "outputs": []
    },
    {
      "cell_type": "code",
      "metadata": {
        "colab": {
          "base_uri": "https://localhost:8080/",
          "height": 417
        },
        "id": "Gai4j4hE4cBx",
        "outputId": "03b7b1b3-c40a-4f47-e944-2fd0f9469c80"
      },
      "source": [
        "sub"
      ],
      "execution_count": null,
      "outputs": [
        {
          "output_type": "execute_result",
          "data": {
            "text/html": [
              "<div>\n",
              "<style scoped>\n",
              "    .dataframe tbody tr th:only-of-type {\n",
              "        vertical-align: middle;\n",
              "    }\n",
              "\n",
              "    .dataframe tbody tr th {\n",
              "        vertical-align: top;\n",
              "    }\n",
              "\n",
              "    .dataframe thead th {\n",
              "        text-align: right;\n",
              "    }\n",
              "</style>\n",
              "<table border=\"1\" class=\"dataframe\">\n",
              "  <thead>\n",
              "    <tr style=\"text-align: right;\">\n",
              "      <th></th>\n",
              "      <th>PRODUCT_ID</th>\n",
              "      <th>BROWSE_NODE_ID</th>\n",
              "    </tr>\n",
              "  </thead>\n",
              "  <tbody>\n",
              "    <tr>\n",
              "      <th>0</th>\n",
              "      <td>1</td>\n",
              "      <td>1140</td>\n",
              "    </tr>\n",
              "    <tr>\n",
              "      <th>1</th>\n",
              "      <td>2</td>\n",
              "      <td>2321</td>\n",
              "    </tr>\n",
              "    <tr>\n",
              "      <th>2</th>\n",
              "      <td>3</td>\n",
              "      <td>115</td>\n",
              "    </tr>\n",
              "    <tr>\n",
              "      <th>3</th>\n",
              "      <td>4</td>\n",
              "      <td>604</td>\n",
              "    </tr>\n",
              "    <tr>\n",
              "      <th>4</th>\n",
              "      <td>5</td>\n",
              "      <td>1239</td>\n",
              "    </tr>\n",
              "    <tr>\n",
              "      <th>...</th>\n",
              "      <td>...</td>\n",
              "      <td>...</td>\n",
              "    </tr>\n",
              "    <tr>\n",
              "      <th>110770</th>\n",
              "      <td>110771</td>\n",
              "      <td>4368</td>\n",
              "    </tr>\n",
              "    <tr>\n",
              "      <th>110771</th>\n",
              "      <td>110772</td>\n",
              "      <td>1551</td>\n",
              "    </tr>\n",
              "    <tr>\n",
              "      <th>110772</th>\n",
              "      <td>110773</td>\n",
              "      <td>1551</td>\n",
              "    </tr>\n",
              "    <tr>\n",
              "      <th>110773</th>\n",
              "      <td>110774</td>\n",
              "      <td>13568</td>\n",
              "    </tr>\n",
              "    <tr>\n",
              "      <th>110774</th>\n",
              "      <td>110775</td>\n",
              "      <td>3442</td>\n",
              "    </tr>\n",
              "  </tbody>\n",
              "</table>\n",
              "<p>110775 rows × 2 columns</p>\n",
              "</div>"
            ],
            "text/plain": [
              "        PRODUCT_ID  BROWSE_NODE_ID\n",
              "0                1            1140\n",
              "1                2            2321\n",
              "2                3             115\n",
              "3                4             604\n",
              "4                5            1239\n",
              "...            ...             ...\n",
              "110770      110771            4368\n",
              "110771      110772            1551\n",
              "110772      110773            1551\n",
              "110773      110774           13568\n",
              "110774      110775            3442\n",
              "\n",
              "[110775 rows x 2 columns]"
            ]
          },
          "metadata": {
            "tags": []
          },
          "execution_count": 33
        }
      ]
    },
    {
      "cell_type": "code",
      "metadata": {
        "id": "cN2nKzXr4Gnm"
      },
      "source": [
        "sub.to_csv('/content/drive/MyDrive/Amazon Challenge/submissionfinal10.csv', index=False)"
      ],
      "execution_count": null,
      "outputs": []
    },
    {
      "cell_type": "code",
      "metadata": {
        "id": "9mDpQI1zUnZB"
      },
      "source": [
        "from sklearn.feature_extraction.text import CountVectorizer\n",
        "countvect = CountVectorizer(ngram_range=(1,2), max_features=20000, stop_words='english')\n",
        "from sklearn.feature_extraction.text import TfidfTransformer\n",
        "tfidf_transformer = TfidfTransformer()"
      ],
      "execution_count": null,
      "outputs": []
    },
    {
      "cell_type": "code",
      "metadata": {
        "id": "lAs3KdE1nLU0"
      },
      "source": [
        "#10001 then gaps of 10000\n",
        "X_title_test = countvect.transform(test_data.combined)\n",
        "X_title_tfid_test = tfidf_transformer.transform(X_title_test)\n",
        "\n",
        "sub['BROWSE_NODE_ID'] = clf.predict(X_title_tfid_test)"
      ],
      "execution_count": null,
      "outputs": []
    },
    {
      "cell_type": "code",
      "metadata": {
        "id": "BtCbLYFlnLU0",
        "colab": {
          "base_uri": "https://localhost:8080/",
          "height": 417
        },
        "outputId": "6ac59eb4-c9ad-42d1-b1a1-3bbfc3000bda"
      },
      "source": [
        "sub"
      ],
      "execution_count": null,
      "outputs": [
        {
          "output_type": "execute_result",
          "data": {
            "text/html": [
              "<div>\n",
              "<style scoped>\n",
              "    .dataframe tbody tr th:only-of-type {\n",
              "        vertical-align: middle;\n",
              "    }\n",
              "\n",
              "    .dataframe tbody tr th {\n",
              "        vertical-align: top;\n",
              "    }\n",
              "\n",
              "    .dataframe thead th {\n",
              "        text-align: right;\n",
              "    }\n",
              "</style>\n",
              "<table border=\"1\" class=\"dataframe\">\n",
              "  <thead>\n",
              "    <tr style=\"text-align: right;\">\n",
              "      <th></th>\n",
              "      <th>PRODUCT_ID</th>\n",
              "      <th>BROWSE_NODE_ID</th>\n",
              "    </tr>\n",
              "  </thead>\n",
              "  <tbody>\n",
              "    <tr>\n",
              "      <th>0</th>\n",
              "      <td>1</td>\n",
              "      <td>413</td>\n",
              "    </tr>\n",
              "    <tr>\n",
              "      <th>1</th>\n",
              "      <td>2</td>\n",
              "      <td>1186</td>\n",
              "    </tr>\n",
              "    <tr>\n",
              "      <th>2</th>\n",
              "      <td>3</td>\n",
              "      <td>11</td>\n",
              "    </tr>\n",
              "    <tr>\n",
              "      <th>3</th>\n",
              "      <td>4</td>\n",
              "      <td>4</td>\n",
              "    </tr>\n",
              "    <tr>\n",
              "      <th>4</th>\n",
              "      <td>5</td>\n",
              "      <td>1922</td>\n",
              "    </tr>\n",
              "    <tr>\n",
              "      <th>...</th>\n",
              "      <td>...</td>\n",
              "      <td>...</td>\n",
              "    </tr>\n",
              "    <tr>\n",
              "      <th>110770</th>\n",
              "      <td>110771</td>\n",
              "      <td>4</td>\n",
              "    </tr>\n",
              "    <tr>\n",
              "      <th>110771</th>\n",
              "      <td>110772</td>\n",
              "      <td>800</td>\n",
              "    </tr>\n",
              "    <tr>\n",
              "      <th>110772</th>\n",
              "      <td>110773</td>\n",
              "      <td>800</td>\n",
              "    </tr>\n",
              "    <tr>\n",
              "      <th>110773</th>\n",
              "      <td>110774</td>\n",
              "      <td>800</td>\n",
              "    </tr>\n",
              "    <tr>\n",
              "      <th>110774</th>\n",
              "      <td>110775</td>\n",
              "      <td>800</td>\n",
              "    </tr>\n",
              "  </tbody>\n",
              "</table>\n",
              "<p>110775 rows × 2 columns</p>\n",
              "</div>"
            ],
            "text/plain": [
              "        PRODUCT_ID  BROWSE_NODE_ID\n",
              "0                1             413\n",
              "1                2            1186\n",
              "2                3              11\n",
              "3                4               4\n",
              "4                5            1922\n",
              "...            ...             ...\n",
              "110770      110771               4\n",
              "110771      110772             800\n",
              "110772      110773             800\n",
              "110773      110774             800\n",
              "110774      110775             800\n",
              "\n",
              "[110775 rows x 2 columns]"
            ]
          },
          "metadata": {
            "tags": []
          },
          "execution_count": 55
        }
      ]
    },
    {
      "cell_type": "code",
      "metadata": {
        "id": "J3OTt5ipnLU0"
      },
      "source": [
        "sub.to_csv('/content/drive/MyDrive/Amazon Challenge/submissionfinal7.csv', index=False)\n"
      ],
      "execution_count": null,
      "outputs": []
    },
    {
      "cell_type": "code",
      "metadata": {
        "id": "T_hLjVu8nLU0"
      },
      "source": [
        "data1 = pd.read_csv(\"/content/drive/MyDrive/Amazon Challenge/Jsub1.csv\", escapechar = \"\\\\\", quoting = csv.QUOTE_NONE)\n",
        "data8 = pd.read_csv(\"/content/drive/MyDrive/Amazon Challenge/Ssub1.csv\", escapechar = \"\\\\\", quoting = csv.QUOTE_NONE)\n",
        "data10 = pd.read_csv(\"/content/drive/MyDrive/Amazon Challenge/Ssub2.csv\", escapechar = \"\\\\\", quoting = csv.QUOTE_NONE)\n",
        "data11 = pd.read_csv(\"/content/drive/MyDrive/Amazon Challenge/submissionfinal12.csv\", escapechar = \"\\\\\", quoting = csv.QUOTE_NONE)\n",
        "data5 = pd.read_csv(\"/content/drive/MyDrive/Amazon Challenge/test Submissions/submissionfinal1.csv\", escapechar = \"\\\\\", quoting = csv.QUOTE_NONE)\n",
        "data6 = pd.read_csv(\"/content/drive/MyDrive/Amazon Challenge/test Submissions/submissionfinal6.csv\", escapechar = \"\\\\\", quoting = csv.QUOTE_NONE)\n",
        "data7 = pd.read_csv(\"/content/drive/MyDrive/Amazon Challenge/test Submissions/submissionfinal7.csv\", escapechar = \"\\\\\", quoting = csv.QUOTE_NONE)\n",
        "data8 = pd.read_csv(\"/content/drive/MyDrive/Amazon Challenge/test Submissions/submissionfinal8.csv\", escapechar = \"\\\\\", quoting = csv.QUOTE_NONE)\n",
        "data10 = pd.read_csv(\"/content/drive/MyDrive/Amazon Challenge/test Submissions/submissionfinal10.csv\", escapechar = \"\\\\\", quoting = csv.QUOTE_NONE)"
      ],
      "execution_count": null,
      "outputs": []
    },
    {
      "cell_type": "code",
      "metadata": {
        "id": "_aMG01MSYv3P"
      },
      "source": [
        "for i in range(110774):\n",
        "  dict = {}\n",
        "  dict[data1.BROWSE_NODE_ID[i]]=0\n",
        "  dict[data8.BROWSE_NODE_ID[i]]=0\n",
        "  dict[data10.BROWSE_NODE_ID[i]]=0\n",
        "  dict[data11.BROWSE_NODE_ID[i]]=0\n",
        "  dict[data5.BROWSE_NODE_ID[i]]=0\n",
        "  dict[data6.BROWSE_NODE_ID[i]]=0\n",
        "  dict[data7.BROWSE_NODE_ID[i]]=0\n",
        "  dict[data8.BROWSE_NODE_ID[i]]=0\n",
        "  dict[data10.BROWSE_NODE_ID[i]]=0\n",
        "  dict[data1.BROWSE_NODE_ID[i]]=dict[data1.BROWSE_NODE_ID[i]]+1\n",
        "  dict[data8.BROWSE_NODE_ID[i]]=dict[data8.BROWSE_NODE_ID[i]]+1\n",
        "  dict[data10.BROWSE_NODE_ID[i]]=dict[data10.BROWSE_NODE_ID[i]]+1\n",
        "  dict[data11.BROWSE_NODE_ID[i]]=dict[data11.BROWSE_NODE_ID[i]]+1\n",
        "  dict[data5.BROWSE_NODE_ID[i]]=dict[data5.BROWSE_NODE_ID[i]]+1\n",
        "  dict[data6.BROWSE_NODE_ID[i]]=dict[data6.BROWSE_NODE_ID[i]]+1\n",
        "  dict[data7.BROWSE_NODE_ID[i]]=dict[data7.BROWSE_NODE_ID[i]]+1\n",
        "  dict[data8.BROWSE_NODE_ID[i]]=dict[data8.BROWSE_NODE_ID[i]]+1\n",
        "  dict[data10.BROWSE_NODE_ID[i]]=dict[data10.BROWSE_NODE_ID[i]]+1\n",
        "  ans=0\n",
        "  val=\"\"\n",
        "  for j in dict:\n",
        "    if dict[j]>ans:\n",
        "      ans=dict[j]\n",
        "      val=j\n",
        "  \n",
        "  data1.BROWSE_NODE_ID[i]=val"
      ],
      "execution_count": null,
      "outputs": []
    },
    {
      "cell_type": "code",
      "metadata": {
        "id": "KEQG8Q8YY3u7"
      },
      "source": [
        "print(data1.BROWSE_NODE_ID[0])\n",
        "print(data8.BROWSE_NODE_ID[0])\n",
        "print(data10.BROWSE_NODE_ID[0])\n",
        "print(data11.BROWSE_NODE_ID[0])\n",
        "print(data5.BROWSE_NODE_ID[0])\n",
        "print(data6.BROWSE_NODE_ID[0])\n",
        "print(data7.BROWSE_NODE_ID[0])\n",
        "print(data8.BROWSE_NODE_ID[0])\n",
        "print(data10.BROWSE_NODE_ID[0])"
      ],
      "execution_count": null,
      "outputs": []
    },
    {
      "cell_type": "code",
      "metadata": {
        "id": "tCPcyuhnY87T"
      },
      "source": [
        "data1.to_csv('/content/drive/MyDrive/Amazon Challenge/submissionfinal14.csv', index=False)"
      ],
      "execution_count": null,
      "outputs": []
    }
  ]
}